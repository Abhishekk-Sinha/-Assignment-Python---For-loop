{
  "nbformat": 4,
  "nbformat_minor": 0,
  "metadata": {
    "colab": {
      "provenance": []
    },
    "kernelspec": {
      "name": "python3",
      "display_name": "Python 3"
    },
    "language_info": {
      "name": "python"
    }
  },
  "cells": [
    {
      "cell_type": "markdown",
      "source": [
        "Basic Level:\n",
        "1. Write a Python program to print the numbers from 1 to 10 using a `for` loop."
      ],
      "metadata": {
        "id": "ja0FEFVs7CN_"
      }
    },
    {
      "cell_type": "code",
      "execution_count": null,
      "metadata": {
        "id": "toF1f4385UkM",
        "colab": {
          "base_uri": "https://localhost:8080/"
        },
        "outputId": "bc15f7a6-35bf-4644-b52a-72bd63ec0358"
      },
      "outputs": [
        {
          "output_type": "stream",
          "name": "stdout",
          "text": [
            "1\n",
            "2\n",
            "3\n",
            "4\n",
            "5\n",
            "6\n",
            "7\n",
            "8\n",
            "9\n",
            "10\n"
          ]
        }
      ],
      "source": [
        "for i in range(1, 11):\n",
        "  print(i)"
      ]
    },
    {
      "cell_type": "markdown",
      "source": [
        "- for loop == it is used to iterate over a sequence of the items. it is repeatedly execute the block of the code until the sequence is exhausted i.e. 1 to 10\n",
        "\n",
        "- range() funbction generate the number starting from the 1st argument but not including, in the 2nd argument So range(1,11) generates the number from 1 to 11.  "
      ],
      "metadata": {
        "id": "Ee4GZ02oQi6l"
      }
    },
    {
      "cell_type": "markdown",
      "source": [
        "2. Create a program that calculates the sum of all numbers in a list using a `for` loop."
      ],
      "metadata": {
        "id": "5qYG1C2q7dBZ"
      }
    },
    {
      "cell_type": "code",
      "source": [
        "my_list = [1, 4, 6, 10]\n",
        "\n",
        "# initialize the value\n",
        "sum = 0\n",
        "\n",
        "#iterate the element in the list\n",
        "for i in range(0, len(my_list) ):\n",
        "\n",
        "  #add the total in total variable\n",
        " sum = sum + my_list[i]\n",
        "print(\"Sum of element\", sum)"
      ],
      "metadata": {
        "id": "6NjS22ys7IIC",
        "colab": {
          "base_uri": "https://localhost:8080/"
        },
        "outputId": "6e209f37-bf60-46a5-d6b4-721f7af66758"
      },
      "execution_count": null,
      "outputs": [
        {
          "output_type": "stream",
          "name": "stdout",
          "text": [
            "Sum of element 21\n"
          ]
        }
      ]
    },
    {
      "cell_type": "markdown",
      "source": [
        "3. Write a program to print the characters of a string in reverse order using a `for` loop."
      ],
      "metadata": {
        "id": "cf7s5xux7j8u"
      }
    },
    {
      "cell_type": "code",
      "source": [
        "my_list = \"Hello\"\n",
        "\n",
        "#iterate over the string in reverse order  using a for loop\n",
        "for char in reversed(my_list):\n",
        "\n",
        "  #print the character without a newline\n",
        "  print(char, end=\"\")"
      ],
      "metadata": {
        "id": "iImIcUfS7k0r",
        "colab": {
          "base_uri": "https://localhost:8080/"
        },
        "outputId": "13c0bd5c-cf8b-4d55-9c73-02bf27591523"
      },
      "execution_count": null,
      "outputs": [
        {
          "output_type": "stream",
          "name": "stdout",
          "text": [
            "olleH"
          ]
        }
      ]
    },
    {
      "cell_type": "markdown",
      "source": [
        "**4**. Develop a program that finds the factorial of a given number using a `for` loop.\n"
      ],
      "metadata": {
        "id": "NKvX4yMR7n0d"
      }
    },
    {
      "cell_type": "code",
      "source": [
        "def factorial(n):\n",
        "  if n < 0:\n",
        "    # if n is -ive return this message\n",
        "    return \"Factorial is not defined by the negative numbers\"\n",
        "\n",
        "    # if n is 0 or 1 then return 1\n",
        "  elif n == 0:\n",
        "    return 1\n",
        "  else:\n",
        "    factorial = 1\n",
        "    # iterate the loop from 1 to n using range(1, n+1)\n",
        "    for i in range(1, n+1):\n",
        "\n",
        "      # inside the loop we multiply the factorial by the current value of i\n",
        "      factorial = factorial*i\n",
        "    return factorial\n",
        "\n",
        "#Driver code\n",
        "num = 5\n",
        "print(\"Factorial of \", num, \"is\", factorial(num))"
      ],
      "metadata": {
        "id": "XPcGMT5Z75uw",
        "colab": {
          "base_uri": "https://localhost:8080/"
        },
        "outputId": "bfd4ae91-3a2a-437e-9f20-0552bee7cf13"
      },
      "execution_count": null,
      "outputs": [
        {
          "output_type": "stream",
          "name": "stdout",
          "text": [
            "Factorial of  5 is 120\n"
          ]
        }
      ]
    },
    {
      "cell_type": "markdown",
      "source": [
        "5. Create a program to print the multiplication table of a given number using a `for` loop.\n"
      ],
      "metadata": {
        "id": "-9iTeImo7rbR"
      }
    },
    {
      "cell_type": "code",
      "source": [
        "def multiplication_table(num):\n",
        "\n",
        "  #iterate the loop\n",
        "  for i in range(1, 11):\n",
        "    print(num, \"x\", i, \"=\", num * i)\n",
        "\n",
        "#Driver code\n",
        "num = 3\n",
        "multiplication_table(num)"
      ],
      "metadata": {
        "id": "czfmJ4qa76k9",
        "colab": {
          "base_uri": "https://localhost:8080/"
        },
        "outputId": "319ead0e-ac59-4b4f-d36b-82cb71edcc79"
      },
      "execution_count": null,
      "outputs": [
        {
          "output_type": "stream",
          "name": "stdout",
          "text": [
            "3 x 1 = 3\n",
            "3 x 2 = 6\n",
            "3 x 3 = 9\n",
            "3 x 4 = 12\n",
            "3 x 5 = 15\n",
            "3 x 6 = 18\n",
            "3 x 7 = 21\n",
            "3 x 8 = 24\n",
            "3 x 9 = 27\n",
            "3 x 10 = 30\n"
          ]
        }
      ]
    },
    {
      "cell_type": "markdown",
      "source": [
        "6. Write a program that counts the number of even and odd numbers in a list using a `for` loop.\n"
      ],
      "metadata": {
        "id": "WSa3pL177t1u"
      }
    },
    {
      "cell_type": "code",
      "source": [
        "def count_even_odd(numbers):\n",
        "  even_count = 0\n",
        "  odd_count = 0\n",
        "  for num in numbers:\n",
        "    if num % 2 == 0:\n",
        "      even_count += 1\n",
        "    else:\n",
        "      odd_count += 1\n",
        "  return even_count, odd_count\n",
        "\n",
        "numbers_list = [1, 2, 3, 4, 5, 6, 7, 8, 9, 10]\n",
        "even_count,odd_count = count_even_odd(numbers_list)\n",
        "print(\"Number of even numbers:\", even_count)\n",
        "print(\"Number of odd numbers:\", odd_count)"
      ],
      "metadata": {
        "id": "xY-q105v77OU",
        "colab": {
          "base_uri": "https://localhost:8080/"
        },
        "outputId": "35abd307-4e79-4fc2-f500-76dcd30a6e32"
      },
      "execution_count": null,
      "outputs": [
        {
          "output_type": "stream",
          "name": "stdout",
          "text": [
            "Number of even numbers: 5\n",
            "Number of odd numbers: 5\n"
          ]
        }
      ]
    },
    {
      "cell_type": "markdown",
      "source": [
        "7. Develop a program that prints the squares of numbers from 1 to 5 using a `for` loop.\n"
      ],
      "metadata": {
        "id": "vXZvZ8u37wTx"
      }
    },
    {
      "cell_type": "code",
      "source": [
        "for i in range (1, 6):\n",
        "  square = i * i\n",
        "  print(\"Square of\", i, \"is\", square)"
      ],
      "metadata": {
        "id": "NCAxQm0877rp",
        "colab": {
          "base_uri": "https://localhost:8080/"
        },
        "outputId": "a61f4f8b-7bff-417b-9aa5-8ca692acfc5e"
      },
      "execution_count": null,
      "outputs": [
        {
          "output_type": "stream",
          "name": "stdout",
          "text": [
            "Square of 1 is 1\n",
            "Square of 2 is 4\n",
            "Square of 3 is 9\n",
            "Square of 4 is 16\n",
            "Square of 5 is 25\n"
          ]
        }
      ]
    },
    {
      "cell_type": "markdown",
      "source": [
        "8. Create a program to find the length of a string without using the `len()` function.\n"
      ],
      "metadata": {
        "id": "m2qI9ddF7yhl"
      }
    },
    {
      "cell_type": "code",
      "source": [
        "def string_length(string):\n",
        "  length = 0\n",
        "  for char in string:\n",
        "    length +=1\n",
        "  return length\n",
        "\n",
        "input_string = \"Hello, World!\"\n",
        "print(\"Length of the string: \", string_length(input_string))"
      ],
      "metadata": {
        "id": "CBma9Liz78UG",
        "colab": {
          "base_uri": "https://localhost:8080/"
        },
        "outputId": "1d8fa003-23f4-464d-ec6a-0cb0bb26c38a"
      },
      "execution_count": null,
      "outputs": [
        {
          "output_type": "stream",
          "name": "stdout",
          "text": [
            "Length of the string:  13\n"
          ]
        }
      ]
    },
    {
      "cell_type": "markdown",
      "source": [
        "9. Write a program that calculates the average of a list of numbers using a `for` loop.\n"
      ],
      "metadata": {
        "id": "ioXaE_VH70wC"
      }
    },
    {
      "cell_type": "code",
      "source": [
        "def avg_list(numbers):\n",
        "  total = 0\n",
        "  for num in numbers:\n",
        "    total += num\n",
        "  average = total / len(numbers)\n",
        "  return average\n",
        "\n",
        "numbers_list = [10, 20, 30, 40, 50]\n",
        "average = avg_list(numbers_list)\n",
        "print(\"Average of the numbers:\", average)\n"
      ],
      "metadata": {
        "id": "rRuoIcAi784S",
        "colab": {
          "base_uri": "https://localhost:8080/"
        },
        "outputId": "92b7eb6a-a31e-4b2c-c914-75c7a6b39a26"
      },
      "execution_count": null,
      "outputs": [
        {
          "output_type": "stream",
          "name": "stdout",
          "text": [
            "Average of the numbers: 30.0\n"
          ]
        }
      ]
    },
    {
      "cell_type": "markdown",
      "source": [
        "10. Develop a program that prints the first `n` Fibonacci numbers using a `for` loop."
      ],
      "metadata": {
        "id": "gjxZlaea73JW"
      }
    },
    {
      "cell_type": "code",
      "source": [
        "def fibonacci(n):\n",
        "  fib_sequence = [0, 1]  # Initialize the Fibonacci sequence with the first two numbers\n",
        "  for i in range(2, n):\n",
        "    next_fib = fib_sequence[-1] + fib_sequence[-2] # Calculate the next Fibonacci number\n",
        "    fib_sequence.append(next_fib) # Add the next Fibonacci number to the sequence\n",
        "  return fib_sequence\n",
        "\n",
        "#Driver Code\n",
        "n = 10\n",
        "fib_numbers = fibonacci(n)\n",
        "print(\"First\", n, \"Fibnacci numbers: \", fib_numbers)\n"
      ],
      "metadata": {
        "colab": {
          "base_uri": "https://localhost:8080/"
        },
        "id": "dOZYvZbWgXXZ",
        "outputId": "0d6935f4-868a-4b7e-d4fc-0bc0b614d771"
      },
      "execution_count": null,
      "outputs": [
        {
          "output_type": "stream",
          "name": "stdout",
          "text": [
            "First 10 Fibnacci numbers:  [0, 1, 1, 2, 3, 5, 8, 13, 21, 34]\n"
          ]
        }
      ]
    },
    {
      "cell_type": "markdown",
      "source": [
        "11. Write a program to check if a given list contains any duplicates using a `for` loop.\n"
      ],
      "metadata": {
        "id": "aLi94sdhf5bz"
      }
    },
    {
      "cell_type": "code",
      "source": [
        "def duplicates_list(lst):\n",
        "  seen = set()\n",
        "  for item in lst:\n",
        "    if item in seen:\n",
        "      return True\n",
        "    seen.add(item)\n",
        "  return False\n",
        "\n",
        "#Driver code\n",
        "list1= [1,2,3,4,5]\n",
        "list2 = [1,2,3,4,1]\n",
        "print(\"List 1 has duplicates: \", duplicates_list(list1))\n",
        "print(\"List 2 has duplicates: \", duplicates_list(list2))"
      ],
      "metadata": {
        "colab": {
          "base_uri": "https://localhost:8080/"
        },
        "id": "-6IfZsRMgYT5",
        "outputId": "a8932593-a98d-4566-9d2a-b4c63b9f1b35"
      },
      "execution_count": null,
      "outputs": [
        {
          "output_type": "stream",
          "name": "stdout",
          "text": [
            "List 1 has duplicates:  False\n",
            "List 2 has duplicates:  True\n"
          ]
        }
      ]
    },
    {
      "cell_type": "markdown",
      "source": [
        "12. Create a program that prints the prime numbers in a given range using a `for` loop.\n"
      ],
      "metadata": {
        "id": "mzoSPLtLf8MF"
      }
    },
    {
      "cell_type": "code",
      "source": [
        "def is_prime(num):\n",
        "  if num <= 1:\n",
        "    return False\n",
        "  for i in range(2, int(num ** 0.5) + 1):\n",
        "    if num % i == 0:\n",
        "      return False\n",
        "  return True\n",
        "\n",
        "\n",
        "def prime_numbers_in_range(start, end):\n",
        "  prime_numbers = []\n",
        "  for num in range(start, end+1):\n",
        "    if is_prime(num):\n",
        "      prime_numbers.append(num)\n",
        "  return prime_numbers\n",
        "\n",
        "start = 10\n",
        "end = 30\n",
        "print(\"Prime numbers between\", start, \"and\", end, \"are:\", prime_numbers_in_range(start, end))"
      ],
      "metadata": {
        "colab": {
          "base_uri": "https://localhost:8080/"
        },
        "id": "d07AchqKgZGM",
        "outputId": "46824820-c699-4a56-cba0-01dd5c715ec7"
      },
      "execution_count": null,
      "outputs": [
        {
          "output_type": "stream",
          "name": "stdout",
          "text": [
            "Prime numbers between 10 and 30 are: [11, 13, 17, 19, 23, 29]\n"
          ]
        }
      ]
    },
    {
      "cell_type": "markdown",
      "source": [
        "13. Develop a program that counts the number of vowels in a string using a `for` loop.\n"
      ],
      "metadata": {
        "id": "OOKYsXwEf_Vi"
      }
    },
    {
      "cell_type": "code",
      "source": [
        "def count_vowels(string):\n",
        "  vowels = \"aeiouAEIOU\"\n",
        "  vowels_count = 0\n",
        "  for char in string:\n",
        "    if char in vowels:\n",
        "      vowels_count += 1\n",
        "  return vowels_count\n",
        "\n",
        "#Driver code\n",
        "input_string = \"Hello, World\"\n",
        "print(\"Number of vowels in the string:\", count_vowels(input_string))\n",
        "\n"
      ],
      "metadata": {
        "colab": {
          "base_uri": "https://localhost:8080/"
        },
        "id": "VWJSH4rIgZ2N",
        "outputId": "0ba0c2e5-ca0b-46c3-d7c0-ce76914e6317"
      },
      "execution_count": null,
      "outputs": [
        {
          "output_type": "stream",
          "name": "stdout",
          "text": [
            "Number of vowels in the string: 3\n"
          ]
        }
      ]
    },
    {
      "cell_type": "markdown",
      "source": [
        "14. Write a program to find the maximum element in a 2D list using a nested `for` loop.\n"
      ],
      "metadata": {
        "id": "cGtRZJL9gCf2"
      }
    },
    {
      "cell_type": "code",
      "source": [
        "def find_max_2d(input_list):\n",
        "  max_element = input_list[0][0]\n",
        "  for row in input_list:\n",
        "    for element in row:\n",
        "      if element > max_element:\n",
        "        max_element = element\n",
        "  return max_element\n",
        "\n",
        "\n",
        "input_2d_list = [\n",
        "    [1, 2, 3],\n",
        "    [4, 5, 6],\n",
        "    [7, 8, 9]\n",
        "]\n",
        "\n",
        "print(\"Max element in 2d list: \", find_max_2d(input_2d_list))\n",
        "\n"
      ],
      "metadata": {
        "colab": {
          "base_uri": "https://localhost:8080/"
        },
        "id": "zh-h9JW3gakj",
        "outputId": "38b287f1-e7df-4ec3-dd66-489caf4e30eb"
      },
      "execution_count": null,
      "outputs": [
        {
          "output_type": "stream",
          "name": "stdout",
          "text": [
            "Max element in 2d list:  9\n"
          ]
        }
      ]
    },
    {
      "cell_type": "markdown",
      "source": [
        "15. Create a program that removes all occurrences of a specific element from a list using a `for` loop.\n"
      ],
      "metadata": {
        "id": "SlZWmaAmgHde"
      }
    },
    {
      "cell_type": "code",
      "source": [
        "def remove_element(lst, element):\n",
        "  new_list = []\n",
        "  for item in lst:\n",
        "    if item != element:\n",
        "      new_list.append(item)\n",
        "  return new_list\n",
        "\n",
        "\n",
        "original_list = [1,2,3,4,2,5,2]\n",
        "element_to_remove = 2\n",
        "modified_list = remove_element(original_list, element_to_remove)\n",
        "print(\"original list\", original_list)\n",
        "print(\"Modified list after removing\", element_to_remove, \":\", modified_list)\n"
      ],
      "metadata": {
        "colab": {
          "base_uri": "https://localhost:8080/"
        },
        "id": "FukoxNA4gbNk",
        "outputId": "5d1bb0db-2725-453c-a90f-b1bde0a87277"
      },
      "execution_count": null,
      "outputs": [
        {
          "output_type": "stream",
          "name": "stdout",
          "text": [
            "original list [1, 2, 3, 4, 2, 5, 2]\n",
            "Modified list after removing 2 : [1, 3, 4, 5]\n"
          ]
        }
      ]
    },
    {
      "cell_type": "markdown",
      "source": [
        "16. Develop a program that generates a multiplication table for numbers from 1 to 5 using a nested `for` loop.\n"
      ],
      "metadata": {
        "id": "kK15yyCigJlj"
      }
    },
    {
      "cell_type": "code",
      "source": [
        "for i in range(1, 6):  # Outer loop for the multiplicand (1 to 5)\n",
        "  for j in range(1, 11): # Inner loop for the multiplier (1 to 10)\n",
        "    result = i * j\n",
        "    print(i, \"x\", j, \"=\", result)\n",
        "  print()"
      ],
      "metadata": {
        "id": "gNdzvw6ggb3I",
        "colab": {
          "base_uri": "https://localhost:8080/"
        },
        "outputId": "46e4068b-af4e-41dd-815f-f8e540ab5558"
      },
      "execution_count": null,
      "outputs": [
        {
          "output_type": "stream",
          "name": "stdout",
          "text": [
            "1 x 1 = 1\n",
            "1 x 2 = 2\n",
            "1 x 3 = 3\n",
            "1 x 4 = 4\n",
            "1 x 5 = 5\n",
            "1 x 6 = 6\n",
            "1 x 7 = 7\n",
            "1 x 8 = 8\n",
            "1 x 9 = 9\n",
            "1 x 10 = 10\n",
            "\n",
            "2 x 1 = 2\n",
            "2 x 2 = 4\n",
            "2 x 3 = 6\n",
            "2 x 4 = 8\n",
            "2 x 5 = 10\n",
            "2 x 6 = 12\n",
            "2 x 7 = 14\n",
            "2 x 8 = 16\n",
            "2 x 9 = 18\n",
            "2 x 10 = 20\n",
            "\n",
            "3 x 1 = 3\n",
            "3 x 2 = 6\n",
            "3 x 3 = 9\n",
            "3 x 4 = 12\n",
            "3 x 5 = 15\n",
            "3 x 6 = 18\n",
            "3 x 7 = 21\n",
            "3 x 8 = 24\n",
            "3 x 9 = 27\n",
            "3 x 10 = 30\n",
            "\n",
            "4 x 1 = 4\n",
            "4 x 2 = 8\n",
            "4 x 3 = 12\n",
            "4 x 4 = 16\n",
            "4 x 5 = 20\n",
            "4 x 6 = 24\n",
            "4 x 7 = 28\n",
            "4 x 8 = 32\n",
            "4 x 9 = 36\n",
            "4 x 10 = 40\n",
            "\n",
            "5 x 1 = 5\n",
            "5 x 2 = 10\n",
            "5 x 3 = 15\n",
            "5 x 4 = 20\n",
            "5 x 5 = 25\n",
            "5 x 6 = 30\n",
            "5 x 7 = 35\n",
            "5 x 8 = 40\n",
            "5 x 9 = 45\n",
            "5 x 10 = 50\n",
            "\n"
          ]
        }
      ]
    },
    {
      "cell_type": "markdown",
      "source": [
        "17. Write a program that converts a list of Fahrenheit temperatures to Celsius using a `for` loop.\n"
      ],
      "metadata": {
        "id": "H_TUpnipgJoK"
      }
    },
    {
      "cell_type": "code",
      "source": [
        "def Fahrenheit_to_celcius(Fahrenheit_temp):\n",
        "  cel_temp = []\n",
        "  for temp_f in Fahrenheit_temp:\n",
        "    temp_c = (temp_f - 32) * 5 / 9\n",
        "    cel_temp.append(temp_c)\n",
        "  return cel_temp\n",
        "\n",
        "Fahrenheit_list = [32, 68, 70, 109]\n",
        "celcius_list = Fahrenheit_to_celcius(Fahrenheit_list)\n",
        "print(\"Fahrenheit Temperature\", Fahrenheit_list)\n",
        "print(\"celcius_list\", celcius_list)\n"
      ],
      "metadata": {
        "id": "cpKmCdWugcw7",
        "colab": {
          "base_uri": "https://localhost:8080/"
        },
        "outputId": "6f019817-3dbe-47d7-a9b7-2434f6aba094"
      },
      "execution_count": null,
      "outputs": [
        {
          "output_type": "stream",
          "name": "stdout",
          "text": [
            "Fahrenheit Temperature [32, 68, 70, 109]\n",
            "celcius_list [0.0, 20.0, 21.11111111111111, 42.77777777777778]\n"
          ]
        }
      ]
    },
    {
      "cell_type": "markdown",
      "source": [
        "18. Create a program to print the common elements from two lists using a `for` loop.\n"
      ],
      "metadata": {
        "id": "9GiKi9pYgJqc"
      }
    },
    {
      "cell_type": "code",
      "source": [
        "def common_element(list1, list2):\n",
        "  common_elements = [] # Create an empty list to store common elements\n",
        "  for item1 in list1:\n",
        "    for item2 in list2:\n",
        "      if item1 == item2:\n",
        "        common_elements.append(item1) # Append the common element to the list\n",
        "        break # Break out of the inner loop once a common element is found\n",
        "  return common_elements\n",
        "\n",
        "#Driver Code\n",
        "list1 = [1,3,5,6,7,11,6]\n",
        "list2 = [3,1,3,11,322,4]\n",
        "result = common_element(list1, list2)\n",
        "print(\"Common elements:\", result)\n",
        "\n"
      ],
      "metadata": {
        "id": "ii4L48PTgdjH",
        "colab": {
          "base_uri": "https://localhost:8080/"
        },
        "outputId": "8de6213a-4ed4-4124-d9d7-8e5c4cc69d31"
      },
      "execution_count": null,
      "outputs": [
        {
          "output_type": "stream",
          "name": "stdout",
          "text": [
            "Common elements: [1, 3, 11]\n"
          ]
        }
      ]
    },
    {
      "cell_type": "markdown",
      "source": [
        "19. Develop a program that prints the pattern of right-angled triangles using a `for` loop. Use ‘*’ to draw the\n",
        "pattern\n"
      ],
      "metadata": {
        "id": "WL92S_EBgRNq"
      }
    },
    {
      "cell_type": "code",
      "source": [
        "def right_angled_triangle(n):\n",
        "  for i in range(1, n + 1):\n",
        "    print(\"*\" * i)\n",
        "size = 5\n",
        "print(\"Pattern of right angled triangle : \")\n",
        "print(right_angled_triangle(size))"
      ],
      "metadata": {
        "id": "qHqr5-wSgePg",
        "colab": {
          "base_uri": "https://localhost:8080/"
        },
        "outputId": "887d37e3-3cf7-419f-f435-90105a6f10f0"
      },
      "execution_count": null,
      "outputs": [
        {
          "output_type": "stream",
          "name": "stdout",
          "text": [
            "Pattern of right angled triangle : \n",
            "*\n",
            "**\n",
            "***\n",
            "****\n",
            "*****\n",
            "None\n"
          ]
        }
      ]
    },
    {
      "cell_type": "markdown",
      "source": [
        "20. Write a program to find the greatest common divisor (GCD) of two numbers using a `for` loop."
      ],
      "metadata": {
        "id": "Op7xNBBRgTMO"
      }
    },
    {
      "cell_type": "code",
      "source": [
        "def gcd(a, b):\n",
        "  #Find the minium of two number\n",
        "  min_num = min(a, b)\n",
        "  gcd_result = 1 # Initialize gcd_result to 1 (minimum possible value)\n",
        "\n",
        "  # Iterate from 1 to the minimum of the two numbers\n",
        "  for i in range(1, min_num + 1):\n",
        "    if a % i == 0 and b % i == 0:\n",
        "      gcd_result = i  # Update gcd_result if i divides both a and b without remainder\n",
        "\n",
        "  return gcd_result\n",
        "\n",
        "num1 = 48\n",
        "num2 = 18\n",
        "print(\"The GCD of\", num1, \"and\", num2, \"is:\", gcd(num1, num2))\n"
      ],
      "metadata": {
        "id": "KJ7v-tmN79gU",
        "colab": {
          "base_uri": "https://localhost:8080/"
        },
        "outputId": "f8a1e58b-3fc0-4a53-8e58-1908fb6ec5ca"
      },
      "execution_count": null,
      "outputs": [
        {
          "output_type": "stream",
          "name": "stdout",
          "text": [
            "The GCD of 48 and 18 is: 6\n"
          ]
        }
      ]
    },
    {
      "cell_type": "markdown",
      "source": [
        "21. Create a program that calculates the sum of the digits of numbers in a list using a list comprehension.\n"
      ],
      "metadata": {
        "id": "xh5O51Z8ozLV"
      }
    },
    {
      "cell_type": "code",
      "source": [
        "def sum_of_digits(numbers):\n",
        "  digit_sums = [sum(int(digit) for digit in str(num)) for num in numbers]\n",
        "  return digit_sums\n",
        "\n",
        "number_list = [12, 34, 567663]\n",
        "digit_sums = sum_of_digits(number_list)\n",
        "print(\"Sum of digits for each number: \", digit_sums)"
      ],
      "metadata": {
        "colab": {
          "base_uri": "https://localhost:8080/"
        },
        "id": "12T68R7VpBG4",
        "outputId": "6acef3bb-14ae-433d-eaee-fac59345ed05"
      },
      "execution_count": null,
      "outputs": [
        {
          "output_type": "stream",
          "name": "stdout",
          "text": [
            "Sum of digits for each number:  [3, 7, 33]\n"
          ]
        }
      ]
    },
    {
      "cell_type": "markdown",
      "source": [
        "22. Write a program to find the prime factors of a given number using a `for` loop and list comprehension.\n"
      ],
      "metadata": {
        "id": "IjaWFcOUpAN6"
      }
    },
    {
      "cell_type": "code",
      "source": [
        "def prime_factors(n):\n",
        "    factors = []\n",
        "    # Iterate from 2 to the square root of n\n",
        "    for i in range(2, int(n**0.5) + 1):\n",
        "        # Check if i is a factor of n\n",
        "        while n % i == 0:\n",
        "            factors.append(i)\n",
        "            n //= i\n",
        "    # If n is still greater than 1, it is a prime factor itself\n",
        "    if n > 1:\n",
        "        factors.append(n)\n",
        "    return factors\n",
        "\n",
        "# Test the function with an example number\n",
        "number = 84\n",
        "print(\"Prime factors of\", number, \"are:\", prime_factors(number))\n"
      ],
      "metadata": {
        "colab": {
          "base_uri": "https://localhost:8080/"
        },
        "id": "vvVbxrw4pFua",
        "outputId": "855f5c26-cac9-4f6b-da16-ce2137319a21"
      },
      "execution_count": null,
      "outputs": [
        {
          "output_type": "stream",
          "name": "stdout",
          "text": [
            "Prime factors of 84 are: [2, 2, 3, 7]\n"
          ]
        }
      ]
    },
    {
      "cell_type": "markdown",
      "source": [
        "23. Develop a program that extracts unique elements from a list and stores them in a new list using a list\n",
        "comprehension.\n"
      ],
      "metadata": {
        "id": "zTgdhXcxpGWQ"
      }
    },
    {
      "cell_type": "code",
      "source": [
        "input_list = [1, 2, 3, 4, 2, 1, 5, 6, 3]\n",
        "unique_elements = []\n",
        "\n",
        "# List comprehension to extract unique elements\n",
        "[unique_elements.append(item) for item in input_list if item not in unique_elements]\n",
        "\n",
        "print(\"Original list:\", input_list)\n",
        "print(\"Unique elements:\", unique_elements)\n"
      ],
      "metadata": {
        "id": "WnvdLlJRpJqO"
      },
      "execution_count": null,
      "outputs": []
    },
    {
      "cell_type": "markdown",
      "source": [
        "24. Create a program that generates a list of all palindromic numbers up to a specified limit using a list\n",
        "comprehension.\n"
      ],
      "metadata": {
        "id": "4byW6L75pKKr"
      }
    },
    {
      "cell_type": "code",
      "source": [
        "def is_palindromic(num):\n",
        "    return str(num) == str(num)[::-1]\n",
        "\n",
        "limit = 1000  # Specify the limit\n",
        "palindromic_numbers = [num for num in range(1, limit + 1) if is_palindromic(num)]\n",
        "\n",
        "print(\"List of palindromic numbers up to\", limit, \":\", palindromic_numbers)\n"
      ],
      "metadata": {
        "colab": {
          "base_uri": "https://localhost:8080/"
        },
        "id": "lY_-ATonpMoq",
        "outputId": "ea473633-87b8-4f97-a882-25c8d9ef3427"
      },
      "execution_count": null,
      "outputs": [
        {
          "output_type": "stream",
          "name": "stdout",
          "text": [
            "List of palindromic numbers up to 1000 : [1, 2, 3, 4, 5, 6, 7, 8, 9, 11, 22, 33, 44, 55, 66, 77, 88, 99, 101, 111, 121, 131, 141, 151, 161, 171, 181, 191, 202, 212, 222, 232, 242, 252, 262, 272, 282, 292, 303, 313, 323, 333, 343, 353, 363, 373, 383, 393, 404, 414, 424, 434, 444, 454, 464, 474, 484, 494, 505, 515, 525, 535, 545, 555, 565, 575, 585, 595, 606, 616, 626, 636, 646, 656, 666, 676, 686, 696, 707, 717, 727, 737, 747, 757, 767, 777, 787, 797, 808, 818, 828, 838, 848, 858, 868, 878, 888, 898, 909, 919, 929, 939, 949, 959, 969, 979, 989, 999]\n"
          ]
        }
      ]
    },
    {
      "cell_type": "markdown",
      "source": [
        "25. Write a program to flatten a nested list using list comprehension.\n"
      ],
      "metadata": {
        "id": "tR9YLdAhpM9l"
      }
    },
    {
      "cell_type": "code",
      "source": [
        "nested_list = [[1, 2, 3], [4, 5], [6, 7, 8]]\n",
        "flattened_list = [item for sublist in nested_list for item in sublist]\n",
        "\n",
        "print(\"Nested list: \", nested_list)\n",
        "print(\"Flattened List: \", flattened_list)"
      ],
      "metadata": {
        "colab": {
          "base_uri": "https://localhost:8080/"
        },
        "id": "-cFI1pKJpsZT",
        "outputId": "4a7cc862-490c-408f-a5dd-23f94f86111e"
      },
      "execution_count": null,
      "outputs": [
        {
          "output_type": "stream",
          "name": "stdout",
          "text": [
            "Nested list:  [[1, 2, 3], [4, 5], [6, 7, 8]]\n",
            "Flattened List:  [1, 2, 3, 4, 5, 6, 7, 8]\n"
          ]
        }
      ]
    },
    {
      "cell_type": "markdown",
      "source": [
        "26. Develop a program that computes the sum of even and odd numbers in a list separately using list\n",
        "comprehension.\n"
      ],
      "metadata": {
        "id": "Q-ZOFhdepPkQ"
      }
    },
    {
      "cell_type": "code",
      "source": [
        "numbers = [1, 2, 3, 4, 5, 6, 7, 8, 9, 10]\n",
        "\n",
        "# Using list comprehension to separate even and odd numbers\n",
        "even_numbers = [num for num in numbers if num % 2 == 0]\n",
        "odd_numbers = [num for num in numbers if num % 2 != 0]\n",
        "\n",
        "# Computing the sum of even and odd numbers separately\n",
        "sum_even = sum(even_numbers)\n",
        "sum_odd = sum(odd_numbers)\n",
        "\n",
        "print(\"Original List:\", numbers)\n",
        "print(\"Even Numbers:\", even_numbers)\n",
        "print(\"Sum of Even Numbers:\", sum_even)\n",
        "print(\"Odd Numbers:\", odd_numbers)\n",
        "print(\"Sum of Odd Numbers:\", sum_odd)\n"
      ],
      "metadata": {
        "colab": {
          "base_uri": "https://localhost:8080/"
        },
        "id": "P-7aMcLPps8d",
        "outputId": "7744648e-3123-42d2-e1bc-3e40023a52a4"
      },
      "execution_count": null,
      "outputs": [
        {
          "output_type": "stream",
          "name": "stdout",
          "text": [
            "Original List: [1, 2, 3, 4, 5, 6, 7, 8, 9, 10]\n",
            "Even Numbers: [2, 4, 6, 8, 10]\n",
            "Sum of Even Numbers: 30\n",
            "Odd Numbers: [1, 3, 5, 7, 9]\n",
            "Sum of Odd Numbers: 25\n"
          ]
        }
      ]
    },
    {
      "cell_type": "markdown",
      "source": [
        "27. Create a program that generates a list of squares of odd numbers between 1 and 10 using list\n",
        "comprehension.\n"
      ],
      "metadata": {
        "id": "KPPutTmSpRS5"
      }
    },
    {
      "cell_type": "code",
      "source": [
        "squares_of_odd_numbers = [num ** 2 for num in range(1, 11) if num % 2 != 0]\n",
        "\n",
        "print(\"List of squares of odd numbers between 1 and 10:\", squares_of_odd_numbers)\n"
      ],
      "metadata": {
        "colab": {
          "base_uri": "https://localhost:8080/"
        },
        "id": "PtUAFqDqptn7",
        "outputId": "7c7a4c6f-71ea-4549-8549-1c0e89f645c8"
      },
      "execution_count": null,
      "outputs": [
        {
          "output_type": "stream",
          "name": "stdout",
          "text": [
            "List of squares of odd numbers between 1 and 10: [1, 9, 25, 49, 81]\n"
          ]
        }
      ]
    },
    {
      "cell_type": "markdown",
      "source": [
        "28. Write a program that combines two lists into a dictionary using list comprehension.\n"
      ],
      "metadata": {
        "id": "XR_uVbarpTKJ"
      }
    },
    {
      "cell_type": "code",
      "source": [
        "keys = ['a', 'b', 'c']\n",
        "values = [1, 2, 3]\n",
        "\n",
        "combined_dict = {key : value for key, value in zip(keys, values)}\n",
        "print(\"Combined Dictionary\", combined_dict)"
      ],
      "metadata": {
        "colab": {
          "base_uri": "https://localhost:8080/"
        },
        "id": "D-zM1Ije6_L5",
        "outputId": "9f510feb-1847-479f-bf37-42f7057ae781"
      },
      "execution_count": null,
      "outputs": [
        {
          "output_type": "stream",
          "name": "stdout",
          "text": [
            "Combined Dictionary {'a': 1, 'b': 2, 'c': 3}\n"
          ]
        }
      ]
    },
    {
      "cell_type": "markdown",
      "source": [
        "- two lists keys and values containing keys and corresponding values, respectively.\n",
        "- use list comprehension along with the zip() function to iterate over pairs of elements from both lists simultaneously.\n",
        "- Inside the list comprehension, we create key-value pairs where each key is taken from the keys list and each value is taken from the values list.\n",
        "- The result is a dictionary containing the combined key-value pairs."
      ],
      "metadata": {
        "id": "-MI9H_rR8F4P"
      }
    },
    {
      "cell_type": "markdown",
      "source": [
        "29. Develop a program that extracts the vowels from a string and stores them in a list using list comprehension.\n"
      ],
      "metadata": {
        "id": "BgZ-urn6pVDP"
      }
    },
    {
      "cell_type": "code",
      "source": [
        "def extract_vowels(text):\n",
        "  vowels = ['a', 'e', 'i', 'o', 'u']\n",
        "  return [char for char in text if char.lower() in vowels]\n",
        "\n",
        "text = \"Hello World\"\n",
        "vowel_list = extract_vowels(text)\n",
        "print(\"Original String : \", text)\n",
        "print(\"List of Vowels :\", vowel_list)"
      ],
      "metadata": {
        "colab": {
          "base_uri": "https://localhost:8080/"
        },
        "id": "Y0syOKB-pye9",
        "outputId": "e83340fe-ea26-4bd5-cbac-c65c8ae13bd5"
      },
      "execution_count": null,
      "outputs": [
        {
          "output_type": "stream",
          "name": "stdout",
          "text": [
            "Original String :  Hello World\n",
            "List of Vowels : ['e', 'o', 'o']\n"
          ]
        }
      ]
    },
    {
      "cell_type": "markdown",
      "source": [
        "30. Create a program that removes all non-numeric characters from a list of strings using list comprehension.\n"
      ],
      "metadata": {
        "id": "P1JvNwOypaNp"
      }
    },
    {
      "cell_type": "code",
      "source": [
        "def remove_non_numeric(strings):\n",
        "  return[''.join(char for char in string if char.isdigit()) for string in strings]\n",
        "\n",
        "string_list = ['abc123', 'fwyu46jbvjhg', 'efg876nkjh']\n",
        "numeric_strings = remove_non_numeric(string_list)\n",
        "\n",
        "print(\"Original List of Strings : \", string_list)\n",
        "print(\"List of Numeric String :\", numeric_strings)\n"
      ],
      "metadata": {
        "colab": {
          "base_uri": "https://localhost:8080/"
        },
        "id": "RzZaVwXfpzIV",
        "outputId": "334f0c2d-b7d9-4729-e203-13a06a115ddb"
      },
      "execution_count": null,
      "outputs": [
        {
          "output_type": "stream",
          "name": "stdout",
          "text": [
            "Original List of Strings :  ['abc123', 'fwyu46jbvjhg', 'efg876nkjh']\n",
            "List of Numeric String : ['123', '46', '876']\n"
          ]
        }
      ]
    },
    {
      "cell_type": "markdown",
      "source": [
        "31. Write a program to generate a list of prime numbers using the Sieve of Eratosthenes algorithm and list\n",
        "comprehension.\n"
      ],
      "metadata": {
        "id": "q1vZOYjcpcRa"
      }
    },
    {
      "cell_type": "code",
      "source": [
        "def  Sieve_of_Eratosthenes(limit):\n",
        "  primes = [True] * (limit + 1)\n",
        "  primes[0], primes[1] = False, False # 0 AND 1 are not prime\n",
        "\n",
        "  for num in range(2, int(limit**0.5) + 1):\n",
        "    if primes[num]:\n",
        "      primes[num*num : limit+1: num]"
      ],
      "metadata": {
        "id": "kzFm3Oq42SBj"
      },
      "execution_count": null,
      "outputs": []
    },
    {
      "cell_type": "markdown",
      "source": [
        "32. Create a program that generates a list of all Pythagorean triplets up to a specified limit using list\n",
        "comprehension.\n"
      ],
      "metadata": {
        "id": "N5Dr3GQ0pd0X"
      }
    },
    {
      "cell_type": "code",
      "source": [
        "def Pythagorean_triplets(limit):\n",
        "  return [(a, b, c) for a in range(1, limit+1)\n",
        "                    for b in range(a, limit+1)\n",
        "                    for c in range(b+1, limit+1)\n",
        "                    if a*a + b*b == c*c]\n",
        "\n",
        "limit = 20\n",
        "tripletes = Pythagorean_triplets(limit)\n",
        "print(\"Pythagorean_triplets up to \", limit, \":\", tripletes)"
      ],
      "metadata": {
        "colab": {
          "base_uri": "https://localhost:8080/"
        },
        "id": "v1LFgCkU2SFy",
        "outputId": "2c8f827e-770d-4225-803d-0b5584f00862"
      },
      "execution_count": null,
      "outputs": [
        {
          "output_type": "stream",
          "name": "stdout",
          "text": [
            "Pythagorean_triplets up to  20 : [(3, 4, 5), (5, 12, 13), (6, 8, 10), (8, 15, 17), (9, 12, 15), (12, 16, 20)]\n"
          ]
        }
      ]
    },
    {
      "cell_type": "markdown",
      "source": [
        "33. Develop a program that generates a list of all possible combinations of two lists using list comprehension.\n"
      ],
      "metadata": {
        "id": "A-jPYadPpfN1"
      }
    },
    {
      "cell_type": "code",
      "source": [
        "from itertools import combinations\n",
        "list1 = [1, 2, 3]\n",
        "list2 = ['a', 'b', 'c']\n",
        "\n",
        "combinations = [(x, y) for x in list1 for y in list2]\n",
        "\n",
        "print(\"List 1: \", list1)\n",
        "print(\"List 2: \", list2)\n",
        "print(\"Combinations:\", combinations)\n"
      ],
      "metadata": {
        "colab": {
          "base_uri": "https://localhost:8080/"
        },
        "id": "SMa53EFy2SD5",
        "outputId": "2752bd3b-332f-4dbe-8b13-1f4be1b6467c"
      },
      "execution_count": null,
      "outputs": [
        {
          "output_type": "stream",
          "name": "stdout",
          "text": [
            "List 1:  [1, 2, 3]\n",
            "List 2:  ['a', 'b', 'c']\n",
            "Combinations: [(1, 'a'), (1, 'b'), (1, 'c'), (2, 'a'), (2, 'b'), (2, 'c'), (3, 'a'), (3, 'b'), (3, 'c')]\n"
          ]
        }
      ]
    },
    {
      "cell_type": "markdown",
      "source": [
        "34. Write a program that calculates the mean, median, and mode of a list of numbers using list\n",
        "comprehension.\n"
      ],
      "metadata": {
        "id": "IZw7clCIpg4C"
      }
    },
    {
      "cell_type": "code",
      "source": [
        "from collections import Counter\n",
        "\n",
        "def mean(numbers):\n",
        "  return sum(numbers)/ len(numbers)\n",
        "\n",
        "def median(numbers):\n",
        "  sorted_numbers = sorted(numbers)\n",
        "  n = len(sorted_numbers)\n",
        "  if n % 2 == 0:\n",
        "    return (sorted_numbers[n // 2 -1] + sorted_numbers[n // 2])\n",
        "  else:\n",
        "    return sorted_numbers[n // 2]\n",
        "\n",
        "def mode(numbers):\n",
        "  counter = Counter(numbers)\n",
        "  max_count = max(counter.values())\n",
        "  return [num for num, count in counter.items() if count == max_count]\n",
        "\n",
        "numbers = [1,2,3,4,5,5,6,6,7,7,7,8,9]\n",
        "mean_val = mean(numbers)\n",
        "median_val = median(numbers)\n",
        "mode_val = mode(numbers)\n",
        "\n",
        "\n",
        "print(\"List of Numbers:\", numbers)\n",
        "print(\"Mean:\", mean_val)\n",
        "print(\"Median:\", median_val)\n",
        "print(\"Mode:\", mode_val)"
      ],
      "metadata": {
        "colab": {
          "base_uri": "https://localhost:8080/"
        },
        "id": "rYIzrlUT2XE5",
        "outputId": "388b3b49-6d44-4fbc-f1be-b37f64b5db32"
      },
      "execution_count": null,
      "outputs": [
        {
          "output_type": "stream",
          "name": "stdout",
          "text": [
            "List of Numbers: [1, 2, 3, 4, 5, 5, 6, 6, 7, 7, 7, 8, 9]\n",
            "Mean: 5.384615384615385\n",
            "Median: 6\n",
            "Mode: [7]\n"
          ]
        }
      ]
    },
    {
      "cell_type": "markdown",
      "source": [
        "35. Create a program that generates Pascal's triangle up to a specified number of rows using list\n",
        "comprehension.\n"
      ],
      "metadata": {
        "id": "xrE0fR4QpiUW"
      }
    },
    {
      "cell_type": "code",
      "source": [
        "def generates_Pascals_triangle(rows):\n",
        "  triangle = [[1]]\n",
        "  for _ in range(1, rows):\n",
        "    prev_row = triangle[-1]\n",
        "    new_row = [1] + [prev_row[i] + prev_row[i+1] for i in range(len(prev_row) -1)] + [1]\n",
        "    triangle.append(new_row)\n",
        "  return triangle\n",
        "\n",
        "num_rows = 5\n",
        "pascals_triangle = generates_Pascals_triangle(num_rows)\n",
        "for row in pascals_triangle:\n",
        "    print(row)"
      ],
      "metadata": {
        "colab": {
          "base_uri": "https://localhost:8080/"
        },
        "id": "2ag00JN12X39",
        "outputId": "a9f63b63-41a1-4cd8-c355-6be335f84a72"
      },
      "execution_count": null,
      "outputs": [
        {
          "output_type": "stream",
          "name": "stdout",
          "text": [
            "[1]\n",
            "[1, 1]\n",
            "[1, 2, 1]\n",
            "[1, 3, 3, 1]\n",
            "[1, 4, 6, 4, 1]\n"
          ]
        }
      ]
    },
    {
      "cell_type": "markdown",
      "source": [
        "36. Develop a program that calculates the sum of the digits of a factorial of numbers from 1 to 5 using list\n",
        "comprehension.\n"
      ],
      "metadata": {
        "id": "zO09IbFcpj1T"
      }
    },
    {
      "cell_type": "code",
      "source": [
        "def factorial(n):\n",
        "  if n == 0:\n",
        "    return 1\n",
        "  else:\n",
        "    return n * factorial(n-1)\n",
        "# Calculate the factorial of numbers from 1 to 5 and sum the digits\n",
        "sum_of_digits = [sum(int(digit) for digit in str(factorial(i))) for i in range(1, 6)]\n",
        "\n",
        "for i, sum_digits in enumerate(sum_of_digits, start = 1):\n",
        "  print(f\"Sum of digits of {i}!:\", sum_digits)"
      ],
      "metadata": {
        "colab": {
          "base_uri": "https://localhost:8080/"
        },
        "id": "1SzCpXkc2Yem",
        "outputId": "bf74bdf8-ba77-4049-bff1-ae219ed349fc"
      },
      "execution_count": null,
      "outputs": [
        {
          "output_type": "stream",
          "name": "stdout",
          "text": [
            "Sum of digits of 1!: 1\n",
            "Sum of digits of 2!: 2\n",
            "Sum of digits of 3!: 6\n",
            "Sum of digits of 4!: 6\n",
            "Sum of digits of 5!: 3\n"
          ]
        }
      ]
    },
    {
      "cell_type": "markdown",
      "source": [
        "37. Write a program that finds the longest word in a sentence using list comprehension.\n"
      ],
      "metadata": {
        "id": "l_l-bjmEplMs"
      }
    },
    {
      "cell_type": "code",
      "source": [
        "sentence = \"Hello World\"\n",
        "longest_word = max(word for word in sentence.split())\n",
        "print(\"Sentence:\", sentence)\n",
        "print(\"Longest Word:\", longest_word)"
      ],
      "metadata": {
        "colab": {
          "base_uri": "https://localhost:8080/"
        },
        "id": "6oyzREMl2ZJQ",
        "outputId": "c6767ea0-f20a-4292-c0e5-84237e5ce847"
      },
      "execution_count": null,
      "outputs": [
        {
          "output_type": "stream",
          "name": "stdout",
          "text": [
            "Sentence: Hello World\n",
            "Longest Word: World\n"
          ]
        }
      ]
    },
    {
      "cell_type": "markdown",
      "source": [
        "38. Create a program that filters a list of strings to include only those with more than three vowels using list\n",
        "comprehension.\n"
      ],
      "metadata": {
        "id": "DxiWpLkQpmjc"
      }
    },
    {
      "cell_type": "code",
      "source": [
        "def count_vowels(word):\n",
        "  vowels = \"aeiouAEIOU\"\n",
        "  return sum(1 for char in word if char in vowels)\n",
        "\n",
        "words = [\"hello\", \"world\", \"python\", \"programming\", \"ai\", \"artificial\", \"intelligence\"]\n",
        "# Filter the list to include only words with more than three vowels\n",
        "filtered_words = [word for word in words if count_vowels(word) > 3]\n",
        "\n",
        "print(\"Original List : \", words)\n",
        "print(\"Filtered List (more than 3 vowels):\", filtered_words)"
      ],
      "metadata": {
        "colab": {
          "base_uri": "https://localhost:8080/"
        },
        "id": "Wm_MW5Fz2Z5J",
        "outputId": "ebf27e38-b3ea-4ff7-8ebf-6730f9857de7"
      },
      "execution_count": null,
      "outputs": [
        {
          "output_type": "stream",
          "name": "stdout",
          "text": [
            "Original List :  ['hello', 'world', 'python', 'programming', 'ai', 'artificial', 'intelligence']\n",
            "Filtered List (more than 3 vowels): ['artificial', 'intelligence']\n"
          ]
        }
      ]
    },
    {
      "cell_type": "markdown",
      "source": [
        "39. Develop a program that calculates the sum of the digits of numbers from 1 to 1000 using list\n",
        "comprehension.\n"
      ],
      "metadata": {
        "id": "wLvUyptvpoAd"
      }
    },
    {
      "cell_type": "code",
      "source": [
        "def sum_of_digits(n):\n",
        "  return sum(int(digit) for digit in str(n))\n",
        "\n",
        "# Calculate the sum of digits for numbers from 1 to 1000 using list comprehension\n",
        "sum_of_digits_list = [sum_of_digits(num) for num in range(1, 1001)]\n",
        "\n",
        "# Print the sum of digits for each number\n",
        "for i, sum_digits in enumerate(sum_of_digits_list, start = 1):\n",
        "  print(f\"Sum of digits of {i}: {sum_digits}\")\n",
        "\n",
        "total_sum = sum(sum_of_digits_list)\n",
        "print(\"Total sum of digits from 1 to 1000:\", total_sum)"
      ],
      "metadata": {
        "colab": {
          "base_uri": "https://localhost:8080/"
        },
        "id": "q_709SPa2acL",
        "outputId": "2334eb8d-53da-4f24-d99b-f689d59681e2"
      },
      "execution_count": null,
      "outputs": [
        {
          "output_type": "stream",
          "name": "stdout",
          "text": [
            "Sum of digits of 1: 1\n",
            "Sum of digits of 2: 2\n",
            "Sum of digits of 3: 3\n",
            "Sum of digits of 4: 4\n",
            "Sum of digits of 5: 5\n",
            "Sum of digits of 6: 6\n",
            "Sum of digits of 7: 7\n",
            "Sum of digits of 8: 8\n",
            "Sum of digits of 9: 9\n",
            "Sum of digits of 10: 1\n",
            "Sum of digits of 11: 2\n",
            "Sum of digits of 12: 3\n",
            "Sum of digits of 13: 4\n",
            "Sum of digits of 14: 5\n",
            "Sum of digits of 15: 6\n",
            "Sum of digits of 16: 7\n",
            "Sum of digits of 17: 8\n",
            "Sum of digits of 18: 9\n",
            "Sum of digits of 19: 10\n",
            "Sum of digits of 20: 2\n",
            "Sum of digits of 21: 3\n",
            "Sum of digits of 22: 4\n",
            "Sum of digits of 23: 5\n",
            "Sum of digits of 24: 6\n",
            "Sum of digits of 25: 7\n",
            "Sum of digits of 26: 8\n",
            "Sum of digits of 27: 9\n",
            "Sum of digits of 28: 10\n",
            "Sum of digits of 29: 11\n",
            "Sum of digits of 30: 3\n",
            "Sum of digits of 31: 4\n",
            "Sum of digits of 32: 5\n",
            "Sum of digits of 33: 6\n",
            "Sum of digits of 34: 7\n",
            "Sum of digits of 35: 8\n",
            "Sum of digits of 36: 9\n",
            "Sum of digits of 37: 10\n",
            "Sum of digits of 38: 11\n",
            "Sum of digits of 39: 12\n",
            "Sum of digits of 40: 4\n",
            "Sum of digits of 41: 5\n",
            "Sum of digits of 42: 6\n",
            "Sum of digits of 43: 7\n",
            "Sum of digits of 44: 8\n",
            "Sum of digits of 45: 9\n",
            "Sum of digits of 46: 10\n",
            "Sum of digits of 47: 11\n",
            "Sum of digits of 48: 12\n",
            "Sum of digits of 49: 13\n",
            "Sum of digits of 50: 5\n",
            "Sum of digits of 51: 6\n",
            "Sum of digits of 52: 7\n",
            "Sum of digits of 53: 8\n",
            "Sum of digits of 54: 9\n",
            "Sum of digits of 55: 10\n",
            "Sum of digits of 56: 11\n",
            "Sum of digits of 57: 12\n",
            "Sum of digits of 58: 13\n",
            "Sum of digits of 59: 14\n",
            "Sum of digits of 60: 6\n",
            "Sum of digits of 61: 7\n",
            "Sum of digits of 62: 8\n",
            "Sum of digits of 63: 9\n",
            "Sum of digits of 64: 10\n",
            "Sum of digits of 65: 11\n",
            "Sum of digits of 66: 12\n",
            "Sum of digits of 67: 13\n",
            "Sum of digits of 68: 14\n",
            "Sum of digits of 69: 15\n",
            "Sum of digits of 70: 7\n",
            "Sum of digits of 71: 8\n",
            "Sum of digits of 72: 9\n",
            "Sum of digits of 73: 10\n",
            "Sum of digits of 74: 11\n",
            "Sum of digits of 75: 12\n",
            "Sum of digits of 76: 13\n",
            "Sum of digits of 77: 14\n",
            "Sum of digits of 78: 15\n",
            "Sum of digits of 79: 16\n",
            "Sum of digits of 80: 8\n",
            "Sum of digits of 81: 9\n",
            "Sum of digits of 82: 10\n",
            "Sum of digits of 83: 11\n",
            "Sum of digits of 84: 12\n",
            "Sum of digits of 85: 13\n",
            "Sum of digits of 86: 14\n",
            "Sum of digits of 87: 15\n",
            "Sum of digits of 88: 16\n",
            "Sum of digits of 89: 17\n",
            "Sum of digits of 90: 9\n",
            "Sum of digits of 91: 10\n",
            "Sum of digits of 92: 11\n",
            "Sum of digits of 93: 12\n",
            "Sum of digits of 94: 13\n",
            "Sum of digits of 95: 14\n",
            "Sum of digits of 96: 15\n",
            "Sum of digits of 97: 16\n",
            "Sum of digits of 98: 17\n",
            "Sum of digits of 99: 18\n",
            "Sum of digits of 100: 1\n",
            "Sum of digits of 101: 2\n",
            "Sum of digits of 102: 3\n",
            "Sum of digits of 103: 4\n",
            "Sum of digits of 104: 5\n",
            "Sum of digits of 105: 6\n",
            "Sum of digits of 106: 7\n",
            "Sum of digits of 107: 8\n",
            "Sum of digits of 108: 9\n",
            "Sum of digits of 109: 10\n",
            "Sum of digits of 110: 2\n",
            "Sum of digits of 111: 3\n",
            "Sum of digits of 112: 4\n",
            "Sum of digits of 113: 5\n",
            "Sum of digits of 114: 6\n",
            "Sum of digits of 115: 7\n",
            "Sum of digits of 116: 8\n",
            "Sum of digits of 117: 9\n",
            "Sum of digits of 118: 10\n",
            "Sum of digits of 119: 11\n",
            "Sum of digits of 120: 3\n",
            "Sum of digits of 121: 4\n",
            "Sum of digits of 122: 5\n",
            "Sum of digits of 123: 6\n",
            "Sum of digits of 124: 7\n",
            "Sum of digits of 125: 8\n",
            "Sum of digits of 126: 9\n",
            "Sum of digits of 127: 10\n",
            "Sum of digits of 128: 11\n",
            "Sum of digits of 129: 12\n",
            "Sum of digits of 130: 4\n",
            "Sum of digits of 131: 5\n",
            "Sum of digits of 132: 6\n",
            "Sum of digits of 133: 7\n",
            "Sum of digits of 134: 8\n",
            "Sum of digits of 135: 9\n",
            "Sum of digits of 136: 10\n",
            "Sum of digits of 137: 11\n",
            "Sum of digits of 138: 12\n",
            "Sum of digits of 139: 13\n",
            "Sum of digits of 140: 5\n",
            "Sum of digits of 141: 6\n",
            "Sum of digits of 142: 7\n",
            "Sum of digits of 143: 8\n",
            "Sum of digits of 144: 9\n",
            "Sum of digits of 145: 10\n",
            "Sum of digits of 146: 11\n",
            "Sum of digits of 147: 12\n",
            "Sum of digits of 148: 13\n",
            "Sum of digits of 149: 14\n",
            "Sum of digits of 150: 6\n",
            "Sum of digits of 151: 7\n",
            "Sum of digits of 152: 8\n",
            "Sum of digits of 153: 9\n",
            "Sum of digits of 154: 10\n",
            "Sum of digits of 155: 11\n",
            "Sum of digits of 156: 12\n",
            "Sum of digits of 157: 13\n",
            "Sum of digits of 158: 14\n",
            "Sum of digits of 159: 15\n",
            "Sum of digits of 160: 7\n",
            "Sum of digits of 161: 8\n",
            "Sum of digits of 162: 9\n",
            "Sum of digits of 163: 10\n",
            "Sum of digits of 164: 11\n",
            "Sum of digits of 165: 12\n",
            "Sum of digits of 166: 13\n",
            "Sum of digits of 167: 14\n",
            "Sum of digits of 168: 15\n",
            "Sum of digits of 169: 16\n",
            "Sum of digits of 170: 8\n",
            "Sum of digits of 171: 9\n",
            "Sum of digits of 172: 10\n",
            "Sum of digits of 173: 11\n",
            "Sum of digits of 174: 12\n",
            "Sum of digits of 175: 13\n",
            "Sum of digits of 176: 14\n",
            "Sum of digits of 177: 15\n",
            "Sum of digits of 178: 16\n",
            "Sum of digits of 179: 17\n",
            "Sum of digits of 180: 9\n",
            "Sum of digits of 181: 10\n",
            "Sum of digits of 182: 11\n",
            "Sum of digits of 183: 12\n",
            "Sum of digits of 184: 13\n",
            "Sum of digits of 185: 14\n",
            "Sum of digits of 186: 15\n",
            "Sum of digits of 187: 16\n",
            "Sum of digits of 188: 17\n",
            "Sum of digits of 189: 18\n",
            "Sum of digits of 190: 10\n",
            "Sum of digits of 191: 11\n",
            "Sum of digits of 192: 12\n",
            "Sum of digits of 193: 13\n",
            "Sum of digits of 194: 14\n",
            "Sum of digits of 195: 15\n",
            "Sum of digits of 196: 16\n",
            "Sum of digits of 197: 17\n",
            "Sum of digits of 198: 18\n",
            "Sum of digits of 199: 19\n",
            "Sum of digits of 200: 2\n",
            "Sum of digits of 201: 3\n",
            "Sum of digits of 202: 4\n",
            "Sum of digits of 203: 5\n",
            "Sum of digits of 204: 6\n",
            "Sum of digits of 205: 7\n",
            "Sum of digits of 206: 8\n",
            "Sum of digits of 207: 9\n",
            "Sum of digits of 208: 10\n",
            "Sum of digits of 209: 11\n",
            "Sum of digits of 210: 3\n",
            "Sum of digits of 211: 4\n",
            "Sum of digits of 212: 5\n",
            "Sum of digits of 213: 6\n",
            "Sum of digits of 214: 7\n",
            "Sum of digits of 215: 8\n",
            "Sum of digits of 216: 9\n",
            "Sum of digits of 217: 10\n",
            "Sum of digits of 218: 11\n",
            "Sum of digits of 219: 12\n",
            "Sum of digits of 220: 4\n",
            "Sum of digits of 221: 5\n",
            "Sum of digits of 222: 6\n",
            "Sum of digits of 223: 7\n",
            "Sum of digits of 224: 8\n",
            "Sum of digits of 225: 9\n",
            "Sum of digits of 226: 10\n",
            "Sum of digits of 227: 11\n",
            "Sum of digits of 228: 12\n",
            "Sum of digits of 229: 13\n",
            "Sum of digits of 230: 5\n",
            "Sum of digits of 231: 6\n",
            "Sum of digits of 232: 7\n",
            "Sum of digits of 233: 8\n",
            "Sum of digits of 234: 9\n",
            "Sum of digits of 235: 10\n",
            "Sum of digits of 236: 11\n",
            "Sum of digits of 237: 12\n",
            "Sum of digits of 238: 13\n",
            "Sum of digits of 239: 14\n",
            "Sum of digits of 240: 6\n",
            "Sum of digits of 241: 7\n",
            "Sum of digits of 242: 8\n",
            "Sum of digits of 243: 9\n",
            "Sum of digits of 244: 10\n",
            "Sum of digits of 245: 11\n",
            "Sum of digits of 246: 12\n",
            "Sum of digits of 247: 13\n",
            "Sum of digits of 248: 14\n",
            "Sum of digits of 249: 15\n",
            "Sum of digits of 250: 7\n",
            "Sum of digits of 251: 8\n",
            "Sum of digits of 252: 9\n",
            "Sum of digits of 253: 10\n",
            "Sum of digits of 254: 11\n",
            "Sum of digits of 255: 12\n",
            "Sum of digits of 256: 13\n",
            "Sum of digits of 257: 14\n",
            "Sum of digits of 258: 15\n",
            "Sum of digits of 259: 16\n",
            "Sum of digits of 260: 8\n",
            "Sum of digits of 261: 9\n",
            "Sum of digits of 262: 10\n",
            "Sum of digits of 263: 11\n",
            "Sum of digits of 264: 12\n",
            "Sum of digits of 265: 13\n",
            "Sum of digits of 266: 14\n",
            "Sum of digits of 267: 15\n",
            "Sum of digits of 268: 16\n",
            "Sum of digits of 269: 17\n",
            "Sum of digits of 270: 9\n",
            "Sum of digits of 271: 10\n",
            "Sum of digits of 272: 11\n",
            "Sum of digits of 273: 12\n",
            "Sum of digits of 274: 13\n",
            "Sum of digits of 275: 14\n",
            "Sum of digits of 276: 15\n",
            "Sum of digits of 277: 16\n",
            "Sum of digits of 278: 17\n",
            "Sum of digits of 279: 18\n",
            "Sum of digits of 280: 10\n",
            "Sum of digits of 281: 11\n",
            "Sum of digits of 282: 12\n",
            "Sum of digits of 283: 13\n",
            "Sum of digits of 284: 14\n",
            "Sum of digits of 285: 15\n",
            "Sum of digits of 286: 16\n",
            "Sum of digits of 287: 17\n",
            "Sum of digits of 288: 18\n",
            "Sum of digits of 289: 19\n",
            "Sum of digits of 290: 11\n",
            "Sum of digits of 291: 12\n",
            "Sum of digits of 292: 13\n",
            "Sum of digits of 293: 14\n",
            "Sum of digits of 294: 15\n",
            "Sum of digits of 295: 16\n",
            "Sum of digits of 296: 17\n",
            "Sum of digits of 297: 18\n",
            "Sum of digits of 298: 19\n",
            "Sum of digits of 299: 20\n",
            "Sum of digits of 300: 3\n",
            "Sum of digits of 301: 4\n",
            "Sum of digits of 302: 5\n",
            "Sum of digits of 303: 6\n",
            "Sum of digits of 304: 7\n",
            "Sum of digits of 305: 8\n",
            "Sum of digits of 306: 9\n",
            "Sum of digits of 307: 10\n",
            "Sum of digits of 308: 11\n",
            "Sum of digits of 309: 12\n",
            "Sum of digits of 310: 4\n",
            "Sum of digits of 311: 5\n",
            "Sum of digits of 312: 6\n",
            "Sum of digits of 313: 7\n",
            "Sum of digits of 314: 8\n",
            "Sum of digits of 315: 9\n",
            "Sum of digits of 316: 10\n",
            "Sum of digits of 317: 11\n",
            "Sum of digits of 318: 12\n",
            "Sum of digits of 319: 13\n",
            "Sum of digits of 320: 5\n",
            "Sum of digits of 321: 6\n",
            "Sum of digits of 322: 7\n",
            "Sum of digits of 323: 8\n",
            "Sum of digits of 324: 9\n",
            "Sum of digits of 325: 10\n",
            "Sum of digits of 326: 11\n",
            "Sum of digits of 327: 12\n",
            "Sum of digits of 328: 13\n",
            "Sum of digits of 329: 14\n",
            "Sum of digits of 330: 6\n",
            "Sum of digits of 331: 7\n",
            "Sum of digits of 332: 8\n",
            "Sum of digits of 333: 9\n",
            "Sum of digits of 334: 10\n",
            "Sum of digits of 335: 11\n",
            "Sum of digits of 336: 12\n",
            "Sum of digits of 337: 13\n",
            "Sum of digits of 338: 14\n",
            "Sum of digits of 339: 15\n",
            "Sum of digits of 340: 7\n",
            "Sum of digits of 341: 8\n",
            "Sum of digits of 342: 9\n",
            "Sum of digits of 343: 10\n",
            "Sum of digits of 344: 11\n",
            "Sum of digits of 345: 12\n",
            "Sum of digits of 346: 13\n",
            "Sum of digits of 347: 14\n",
            "Sum of digits of 348: 15\n",
            "Sum of digits of 349: 16\n",
            "Sum of digits of 350: 8\n",
            "Sum of digits of 351: 9\n",
            "Sum of digits of 352: 10\n",
            "Sum of digits of 353: 11\n",
            "Sum of digits of 354: 12\n",
            "Sum of digits of 355: 13\n",
            "Sum of digits of 356: 14\n",
            "Sum of digits of 357: 15\n",
            "Sum of digits of 358: 16\n",
            "Sum of digits of 359: 17\n",
            "Sum of digits of 360: 9\n",
            "Sum of digits of 361: 10\n",
            "Sum of digits of 362: 11\n",
            "Sum of digits of 363: 12\n",
            "Sum of digits of 364: 13\n",
            "Sum of digits of 365: 14\n",
            "Sum of digits of 366: 15\n",
            "Sum of digits of 367: 16\n",
            "Sum of digits of 368: 17\n",
            "Sum of digits of 369: 18\n",
            "Sum of digits of 370: 10\n",
            "Sum of digits of 371: 11\n",
            "Sum of digits of 372: 12\n",
            "Sum of digits of 373: 13\n",
            "Sum of digits of 374: 14\n",
            "Sum of digits of 375: 15\n",
            "Sum of digits of 376: 16\n",
            "Sum of digits of 377: 17\n",
            "Sum of digits of 378: 18\n",
            "Sum of digits of 379: 19\n",
            "Sum of digits of 380: 11\n",
            "Sum of digits of 381: 12\n",
            "Sum of digits of 382: 13\n",
            "Sum of digits of 383: 14\n",
            "Sum of digits of 384: 15\n",
            "Sum of digits of 385: 16\n",
            "Sum of digits of 386: 17\n",
            "Sum of digits of 387: 18\n",
            "Sum of digits of 388: 19\n",
            "Sum of digits of 389: 20\n",
            "Sum of digits of 390: 12\n",
            "Sum of digits of 391: 13\n",
            "Sum of digits of 392: 14\n",
            "Sum of digits of 393: 15\n",
            "Sum of digits of 394: 16\n",
            "Sum of digits of 395: 17\n",
            "Sum of digits of 396: 18\n",
            "Sum of digits of 397: 19\n",
            "Sum of digits of 398: 20\n",
            "Sum of digits of 399: 21\n",
            "Sum of digits of 400: 4\n",
            "Sum of digits of 401: 5\n",
            "Sum of digits of 402: 6\n",
            "Sum of digits of 403: 7\n",
            "Sum of digits of 404: 8\n",
            "Sum of digits of 405: 9\n",
            "Sum of digits of 406: 10\n",
            "Sum of digits of 407: 11\n",
            "Sum of digits of 408: 12\n",
            "Sum of digits of 409: 13\n",
            "Sum of digits of 410: 5\n",
            "Sum of digits of 411: 6\n",
            "Sum of digits of 412: 7\n",
            "Sum of digits of 413: 8\n",
            "Sum of digits of 414: 9\n",
            "Sum of digits of 415: 10\n",
            "Sum of digits of 416: 11\n",
            "Sum of digits of 417: 12\n",
            "Sum of digits of 418: 13\n",
            "Sum of digits of 419: 14\n",
            "Sum of digits of 420: 6\n",
            "Sum of digits of 421: 7\n",
            "Sum of digits of 422: 8\n",
            "Sum of digits of 423: 9\n",
            "Sum of digits of 424: 10\n",
            "Sum of digits of 425: 11\n",
            "Sum of digits of 426: 12\n",
            "Sum of digits of 427: 13\n",
            "Sum of digits of 428: 14\n",
            "Sum of digits of 429: 15\n",
            "Sum of digits of 430: 7\n",
            "Sum of digits of 431: 8\n",
            "Sum of digits of 432: 9\n",
            "Sum of digits of 433: 10\n",
            "Sum of digits of 434: 11\n",
            "Sum of digits of 435: 12\n",
            "Sum of digits of 436: 13\n",
            "Sum of digits of 437: 14\n",
            "Sum of digits of 438: 15\n",
            "Sum of digits of 439: 16\n",
            "Sum of digits of 440: 8\n",
            "Sum of digits of 441: 9\n",
            "Sum of digits of 442: 10\n",
            "Sum of digits of 443: 11\n",
            "Sum of digits of 444: 12\n",
            "Sum of digits of 445: 13\n",
            "Sum of digits of 446: 14\n",
            "Sum of digits of 447: 15\n",
            "Sum of digits of 448: 16\n",
            "Sum of digits of 449: 17\n",
            "Sum of digits of 450: 9\n",
            "Sum of digits of 451: 10\n",
            "Sum of digits of 452: 11\n",
            "Sum of digits of 453: 12\n",
            "Sum of digits of 454: 13\n",
            "Sum of digits of 455: 14\n",
            "Sum of digits of 456: 15\n",
            "Sum of digits of 457: 16\n",
            "Sum of digits of 458: 17\n",
            "Sum of digits of 459: 18\n",
            "Sum of digits of 460: 10\n",
            "Sum of digits of 461: 11\n",
            "Sum of digits of 462: 12\n",
            "Sum of digits of 463: 13\n",
            "Sum of digits of 464: 14\n",
            "Sum of digits of 465: 15\n",
            "Sum of digits of 466: 16\n",
            "Sum of digits of 467: 17\n",
            "Sum of digits of 468: 18\n",
            "Sum of digits of 469: 19\n",
            "Sum of digits of 470: 11\n",
            "Sum of digits of 471: 12\n",
            "Sum of digits of 472: 13\n",
            "Sum of digits of 473: 14\n",
            "Sum of digits of 474: 15\n",
            "Sum of digits of 475: 16\n",
            "Sum of digits of 476: 17\n",
            "Sum of digits of 477: 18\n",
            "Sum of digits of 478: 19\n",
            "Sum of digits of 479: 20\n",
            "Sum of digits of 480: 12\n",
            "Sum of digits of 481: 13\n",
            "Sum of digits of 482: 14\n",
            "Sum of digits of 483: 15\n",
            "Sum of digits of 484: 16\n",
            "Sum of digits of 485: 17\n",
            "Sum of digits of 486: 18\n",
            "Sum of digits of 487: 19\n",
            "Sum of digits of 488: 20\n",
            "Sum of digits of 489: 21\n",
            "Sum of digits of 490: 13\n",
            "Sum of digits of 491: 14\n",
            "Sum of digits of 492: 15\n",
            "Sum of digits of 493: 16\n",
            "Sum of digits of 494: 17\n",
            "Sum of digits of 495: 18\n",
            "Sum of digits of 496: 19\n",
            "Sum of digits of 497: 20\n",
            "Sum of digits of 498: 21\n",
            "Sum of digits of 499: 22\n",
            "Sum of digits of 500: 5\n",
            "Sum of digits of 501: 6\n",
            "Sum of digits of 502: 7\n",
            "Sum of digits of 503: 8\n",
            "Sum of digits of 504: 9\n",
            "Sum of digits of 505: 10\n",
            "Sum of digits of 506: 11\n",
            "Sum of digits of 507: 12\n",
            "Sum of digits of 508: 13\n",
            "Sum of digits of 509: 14\n",
            "Sum of digits of 510: 6\n",
            "Sum of digits of 511: 7\n",
            "Sum of digits of 512: 8\n",
            "Sum of digits of 513: 9\n",
            "Sum of digits of 514: 10\n",
            "Sum of digits of 515: 11\n",
            "Sum of digits of 516: 12\n",
            "Sum of digits of 517: 13\n",
            "Sum of digits of 518: 14\n",
            "Sum of digits of 519: 15\n",
            "Sum of digits of 520: 7\n",
            "Sum of digits of 521: 8\n",
            "Sum of digits of 522: 9\n",
            "Sum of digits of 523: 10\n",
            "Sum of digits of 524: 11\n",
            "Sum of digits of 525: 12\n",
            "Sum of digits of 526: 13\n",
            "Sum of digits of 527: 14\n",
            "Sum of digits of 528: 15\n",
            "Sum of digits of 529: 16\n",
            "Sum of digits of 530: 8\n",
            "Sum of digits of 531: 9\n",
            "Sum of digits of 532: 10\n",
            "Sum of digits of 533: 11\n",
            "Sum of digits of 534: 12\n",
            "Sum of digits of 535: 13\n",
            "Sum of digits of 536: 14\n",
            "Sum of digits of 537: 15\n",
            "Sum of digits of 538: 16\n",
            "Sum of digits of 539: 17\n",
            "Sum of digits of 540: 9\n",
            "Sum of digits of 541: 10\n",
            "Sum of digits of 542: 11\n",
            "Sum of digits of 543: 12\n",
            "Sum of digits of 544: 13\n",
            "Sum of digits of 545: 14\n",
            "Sum of digits of 546: 15\n",
            "Sum of digits of 547: 16\n",
            "Sum of digits of 548: 17\n",
            "Sum of digits of 549: 18\n",
            "Sum of digits of 550: 10\n",
            "Sum of digits of 551: 11\n",
            "Sum of digits of 552: 12\n",
            "Sum of digits of 553: 13\n",
            "Sum of digits of 554: 14\n",
            "Sum of digits of 555: 15\n",
            "Sum of digits of 556: 16\n",
            "Sum of digits of 557: 17\n",
            "Sum of digits of 558: 18\n",
            "Sum of digits of 559: 19\n",
            "Sum of digits of 560: 11\n",
            "Sum of digits of 561: 12\n",
            "Sum of digits of 562: 13\n",
            "Sum of digits of 563: 14\n",
            "Sum of digits of 564: 15\n",
            "Sum of digits of 565: 16\n",
            "Sum of digits of 566: 17\n",
            "Sum of digits of 567: 18\n",
            "Sum of digits of 568: 19\n",
            "Sum of digits of 569: 20\n",
            "Sum of digits of 570: 12\n",
            "Sum of digits of 571: 13\n",
            "Sum of digits of 572: 14\n",
            "Sum of digits of 573: 15\n",
            "Sum of digits of 574: 16\n",
            "Sum of digits of 575: 17\n",
            "Sum of digits of 576: 18\n",
            "Sum of digits of 577: 19\n",
            "Sum of digits of 578: 20\n",
            "Sum of digits of 579: 21\n",
            "Sum of digits of 580: 13\n",
            "Sum of digits of 581: 14\n",
            "Sum of digits of 582: 15\n",
            "Sum of digits of 583: 16\n",
            "Sum of digits of 584: 17\n",
            "Sum of digits of 585: 18\n",
            "Sum of digits of 586: 19\n",
            "Sum of digits of 587: 20\n",
            "Sum of digits of 588: 21\n",
            "Sum of digits of 589: 22\n",
            "Sum of digits of 590: 14\n",
            "Sum of digits of 591: 15\n",
            "Sum of digits of 592: 16\n",
            "Sum of digits of 593: 17\n",
            "Sum of digits of 594: 18\n",
            "Sum of digits of 595: 19\n",
            "Sum of digits of 596: 20\n",
            "Sum of digits of 597: 21\n",
            "Sum of digits of 598: 22\n",
            "Sum of digits of 599: 23\n",
            "Sum of digits of 600: 6\n",
            "Sum of digits of 601: 7\n",
            "Sum of digits of 602: 8\n",
            "Sum of digits of 603: 9\n",
            "Sum of digits of 604: 10\n",
            "Sum of digits of 605: 11\n",
            "Sum of digits of 606: 12\n",
            "Sum of digits of 607: 13\n",
            "Sum of digits of 608: 14\n",
            "Sum of digits of 609: 15\n",
            "Sum of digits of 610: 7\n",
            "Sum of digits of 611: 8\n",
            "Sum of digits of 612: 9\n",
            "Sum of digits of 613: 10\n",
            "Sum of digits of 614: 11\n",
            "Sum of digits of 615: 12\n",
            "Sum of digits of 616: 13\n",
            "Sum of digits of 617: 14\n",
            "Sum of digits of 618: 15\n",
            "Sum of digits of 619: 16\n",
            "Sum of digits of 620: 8\n",
            "Sum of digits of 621: 9\n",
            "Sum of digits of 622: 10\n",
            "Sum of digits of 623: 11\n",
            "Sum of digits of 624: 12\n",
            "Sum of digits of 625: 13\n",
            "Sum of digits of 626: 14\n",
            "Sum of digits of 627: 15\n",
            "Sum of digits of 628: 16\n",
            "Sum of digits of 629: 17\n",
            "Sum of digits of 630: 9\n",
            "Sum of digits of 631: 10\n",
            "Sum of digits of 632: 11\n",
            "Sum of digits of 633: 12\n",
            "Sum of digits of 634: 13\n",
            "Sum of digits of 635: 14\n",
            "Sum of digits of 636: 15\n",
            "Sum of digits of 637: 16\n",
            "Sum of digits of 638: 17\n",
            "Sum of digits of 639: 18\n",
            "Sum of digits of 640: 10\n",
            "Sum of digits of 641: 11\n",
            "Sum of digits of 642: 12\n",
            "Sum of digits of 643: 13\n",
            "Sum of digits of 644: 14\n",
            "Sum of digits of 645: 15\n",
            "Sum of digits of 646: 16\n",
            "Sum of digits of 647: 17\n",
            "Sum of digits of 648: 18\n",
            "Sum of digits of 649: 19\n",
            "Sum of digits of 650: 11\n",
            "Sum of digits of 651: 12\n",
            "Sum of digits of 652: 13\n",
            "Sum of digits of 653: 14\n",
            "Sum of digits of 654: 15\n",
            "Sum of digits of 655: 16\n",
            "Sum of digits of 656: 17\n",
            "Sum of digits of 657: 18\n",
            "Sum of digits of 658: 19\n",
            "Sum of digits of 659: 20\n",
            "Sum of digits of 660: 12\n",
            "Sum of digits of 661: 13\n",
            "Sum of digits of 662: 14\n",
            "Sum of digits of 663: 15\n",
            "Sum of digits of 664: 16\n",
            "Sum of digits of 665: 17\n",
            "Sum of digits of 666: 18\n",
            "Sum of digits of 667: 19\n",
            "Sum of digits of 668: 20\n",
            "Sum of digits of 669: 21\n",
            "Sum of digits of 670: 13\n",
            "Sum of digits of 671: 14\n",
            "Sum of digits of 672: 15\n",
            "Sum of digits of 673: 16\n",
            "Sum of digits of 674: 17\n",
            "Sum of digits of 675: 18\n",
            "Sum of digits of 676: 19\n",
            "Sum of digits of 677: 20\n",
            "Sum of digits of 678: 21\n",
            "Sum of digits of 679: 22\n",
            "Sum of digits of 680: 14\n",
            "Sum of digits of 681: 15\n",
            "Sum of digits of 682: 16\n",
            "Sum of digits of 683: 17\n",
            "Sum of digits of 684: 18\n",
            "Sum of digits of 685: 19\n",
            "Sum of digits of 686: 20\n",
            "Sum of digits of 687: 21\n",
            "Sum of digits of 688: 22\n",
            "Sum of digits of 689: 23\n",
            "Sum of digits of 690: 15\n",
            "Sum of digits of 691: 16\n",
            "Sum of digits of 692: 17\n",
            "Sum of digits of 693: 18\n",
            "Sum of digits of 694: 19\n",
            "Sum of digits of 695: 20\n",
            "Sum of digits of 696: 21\n",
            "Sum of digits of 697: 22\n",
            "Sum of digits of 698: 23\n",
            "Sum of digits of 699: 24\n",
            "Sum of digits of 700: 7\n",
            "Sum of digits of 701: 8\n",
            "Sum of digits of 702: 9\n",
            "Sum of digits of 703: 10\n",
            "Sum of digits of 704: 11\n",
            "Sum of digits of 705: 12\n",
            "Sum of digits of 706: 13\n",
            "Sum of digits of 707: 14\n",
            "Sum of digits of 708: 15\n",
            "Sum of digits of 709: 16\n",
            "Sum of digits of 710: 8\n",
            "Sum of digits of 711: 9\n",
            "Sum of digits of 712: 10\n",
            "Sum of digits of 713: 11\n",
            "Sum of digits of 714: 12\n",
            "Sum of digits of 715: 13\n",
            "Sum of digits of 716: 14\n",
            "Sum of digits of 717: 15\n",
            "Sum of digits of 718: 16\n",
            "Sum of digits of 719: 17\n",
            "Sum of digits of 720: 9\n",
            "Sum of digits of 721: 10\n",
            "Sum of digits of 722: 11\n",
            "Sum of digits of 723: 12\n",
            "Sum of digits of 724: 13\n",
            "Sum of digits of 725: 14\n",
            "Sum of digits of 726: 15\n",
            "Sum of digits of 727: 16\n",
            "Sum of digits of 728: 17\n",
            "Sum of digits of 729: 18\n",
            "Sum of digits of 730: 10\n",
            "Sum of digits of 731: 11\n",
            "Sum of digits of 732: 12\n",
            "Sum of digits of 733: 13\n",
            "Sum of digits of 734: 14\n",
            "Sum of digits of 735: 15\n",
            "Sum of digits of 736: 16\n",
            "Sum of digits of 737: 17\n",
            "Sum of digits of 738: 18\n",
            "Sum of digits of 739: 19\n",
            "Sum of digits of 740: 11\n",
            "Sum of digits of 741: 12\n",
            "Sum of digits of 742: 13\n",
            "Sum of digits of 743: 14\n",
            "Sum of digits of 744: 15\n",
            "Sum of digits of 745: 16\n",
            "Sum of digits of 746: 17\n",
            "Sum of digits of 747: 18\n",
            "Sum of digits of 748: 19\n",
            "Sum of digits of 749: 20\n",
            "Sum of digits of 750: 12\n",
            "Sum of digits of 751: 13\n",
            "Sum of digits of 752: 14\n",
            "Sum of digits of 753: 15\n",
            "Sum of digits of 754: 16\n",
            "Sum of digits of 755: 17\n",
            "Sum of digits of 756: 18\n",
            "Sum of digits of 757: 19\n",
            "Sum of digits of 758: 20\n",
            "Sum of digits of 759: 21\n",
            "Sum of digits of 760: 13\n",
            "Sum of digits of 761: 14\n",
            "Sum of digits of 762: 15\n",
            "Sum of digits of 763: 16\n",
            "Sum of digits of 764: 17\n",
            "Sum of digits of 765: 18\n",
            "Sum of digits of 766: 19\n",
            "Sum of digits of 767: 20\n",
            "Sum of digits of 768: 21\n",
            "Sum of digits of 769: 22\n",
            "Sum of digits of 770: 14\n",
            "Sum of digits of 771: 15\n",
            "Sum of digits of 772: 16\n",
            "Sum of digits of 773: 17\n",
            "Sum of digits of 774: 18\n",
            "Sum of digits of 775: 19\n",
            "Sum of digits of 776: 20\n",
            "Sum of digits of 777: 21\n",
            "Sum of digits of 778: 22\n",
            "Sum of digits of 779: 23\n",
            "Sum of digits of 780: 15\n",
            "Sum of digits of 781: 16\n",
            "Sum of digits of 782: 17\n",
            "Sum of digits of 783: 18\n",
            "Sum of digits of 784: 19\n",
            "Sum of digits of 785: 20\n",
            "Sum of digits of 786: 21\n",
            "Sum of digits of 787: 22\n",
            "Sum of digits of 788: 23\n",
            "Sum of digits of 789: 24\n",
            "Sum of digits of 790: 16\n",
            "Sum of digits of 791: 17\n",
            "Sum of digits of 792: 18\n",
            "Sum of digits of 793: 19\n",
            "Sum of digits of 794: 20\n",
            "Sum of digits of 795: 21\n",
            "Sum of digits of 796: 22\n",
            "Sum of digits of 797: 23\n",
            "Sum of digits of 798: 24\n",
            "Sum of digits of 799: 25\n",
            "Sum of digits of 800: 8\n",
            "Sum of digits of 801: 9\n",
            "Sum of digits of 802: 10\n",
            "Sum of digits of 803: 11\n",
            "Sum of digits of 804: 12\n",
            "Sum of digits of 805: 13\n",
            "Sum of digits of 806: 14\n",
            "Sum of digits of 807: 15\n",
            "Sum of digits of 808: 16\n",
            "Sum of digits of 809: 17\n",
            "Sum of digits of 810: 9\n",
            "Sum of digits of 811: 10\n",
            "Sum of digits of 812: 11\n",
            "Sum of digits of 813: 12\n",
            "Sum of digits of 814: 13\n",
            "Sum of digits of 815: 14\n",
            "Sum of digits of 816: 15\n",
            "Sum of digits of 817: 16\n",
            "Sum of digits of 818: 17\n",
            "Sum of digits of 819: 18\n",
            "Sum of digits of 820: 10\n",
            "Sum of digits of 821: 11\n",
            "Sum of digits of 822: 12\n",
            "Sum of digits of 823: 13\n",
            "Sum of digits of 824: 14\n",
            "Sum of digits of 825: 15\n",
            "Sum of digits of 826: 16\n",
            "Sum of digits of 827: 17\n",
            "Sum of digits of 828: 18\n",
            "Sum of digits of 829: 19\n",
            "Sum of digits of 830: 11\n",
            "Sum of digits of 831: 12\n",
            "Sum of digits of 832: 13\n",
            "Sum of digits of 833: 14\n",
            "Sum of digits of 834: 15\n",
            "Sum of digits of 835: 16\n",
            "Sum of digits of 836: 17\n",
            "Sum of digits of 837: 18\n",
            "Sum of digits of 838: 19\n",
            "Sum of digits of 839: 20\n",
            "Sum of digits of 840: 12\n",
            "Sum of digits of 841: 13\n",
            "Sum of digits of 842: 14\n",
            "Sum of digits of 843: 15\n",
            "Sum of digits of 844: 16\n",
            "Sum of digits of 845: 17\n",
            "Sum of digits of 846: 18\n",
            "Sum of digits of 847: 19\n",
            "Sum of digits of 848: 20\n",
            "Sum of digits of 849: 21\n",
            "Sum of digits of 850: 13\n",
            "Sum of digits of 851: 14\n",
            "Sum of digits of 852: 15\n",
            "Sum of digits of 853: 16\n",
            "Sum of digits of 854: 17\n",
            "Sum of digits of 855: 18\n",
            "Sum of digits of 856: 19\n",
            "Sum of digits of 857: 20\n",
            "Sum of digits of 858: 21\n",
            "Sum of digits of 859: 22\n",
            "Sum of digits of 860: 14\n",
            "Sum of digits of 861: 15\n",
            "Sum of digits of 862: 16\n",
            "Sum of digits of 863: 17\n",
            "Sum of digits of 864: 18\n",
            "Sum of digits of 865: 19\n",
            "Sum of digits of 866: 20\n",
            "Sum of digits of 867: 21\n",
            "Sum of digits of 868: 22\n",
            "Sum of digits of 869: 23\n",
            "Sum of digits of 870: 15\n",
            "Sum of digits of 871: 16\n",
            "Sum of digits of 872: 17\n",
            "Sum of digits of 873: 18\n",
            "Sum of digits of 874: 19\n",
            "Sum of digits of 875: 20\n",
            "Sum of digits of 876: 21\n",
            "Sum of digits of 877: 22\n",
            "Sum of digits of 878: 23\n",
            "Sum of digits of 879: 24\n",
            "Sum of digits of 880: 16\n",
            "Sum of digits of 881: 17\n",
            "Sum of digits of 882: 18\n",
            "Sum of digits of 883: 19\n",
            "Sum of digits of 884: 20\n",
            "Sum of digits of 885: 21\n",
            "Sum of digits of 886: 22\n",
            "Sum of digits of 887: 23\n",
            "Sum of digits of 888: 24\n",
            "Sum of digits of 889: 25\n",
            "Sum of digits of 890: 17\n",
            "Sum of digits of 891: 18\n",
            "Sum of digits of 892: 19\n",
            "Sum of digits of 893: 20\n",
            "Sum of digits of 894: 21\n",
            "Sum of digits of 895: 22\n",
            "Sum of digits of 896: 23\n",
            "Sum of digits of 897: 24\n",
            "Sum of digits of 898: 25\n",
            "Sum of digits of 899: 26\n",
            "Sum of digits of 900: 9\n",
            "Sum of digits of 901: 10\n",
            "Sum of digits of 902: 11\n",
            "Sum of digits of 903: 12\n",
            "Sum of digits of 904: 13\n",
            "Sum of digits of 905: 14\n",
            "Sum of digits of 906: 15\n",
            "Sum of digits of 907: 16\n",
            "Sum of digits of 908: 17\n",
            "Sum of digits of 909: 18\n",
            "Sum of digits of 910: 10\n",
            "Sum of digits of 911: 11\n",
            "Sum of digits of 912: 12\n",
            "Sum of digits of 913: 13\n",
            "Sum of digits of 914: 14\n",
            "Sum of digits of 915: 15\n",
            "Sum of digits of 916: 16\n",
            "Sum of digits of 917: 17\n",
            "Sum of digits of 918: 18\n",
            "Sum of digits of 919: 19\n",
            "Sum of digits of 920: 11\n",
            "Sum of digits of 921: 12\n",
            "Sum of digits of 922: 13\n",
            "Sum of digits of 923: 14\n",
            "Sum of digits of 924: 15\n",
            "Sum of digits of 925: 16\n",
            "Sum of digits of 926: 17\n",
            "Sum of digits of 927: 18\n",
            "Sum of digits of 928: 19\n",
            "Sum of digits of 929: 20\n",
            "Sum of digits of 930: 12\n",
            "Sum of digits of 931: 13\n",
            "Sum of digits of 932: 14\n",
            "Sum of digits of 933: 15\n",
            "Sum of digits of 934: 16\n",
            "Sum of digits of 935: 17\n",
            "Sum of digits of 936: 18\n",
            "Sum of digits of 937: 19\n",
            "Sum of digits of 938: 20\n",
            "Sum of digits of 939: 21\n",
            "Sum of digits of 940: 13\n",
            "Sum of digits of 941: 14\n",
            "Sum of digits of 942: 15\n",
            "Sum of digits of 943: 16\n",
            "Sum of digits of 944: 17\n",
            "Sum of digits of 945: 18\n",
            "Sum of digits of 946: 19\n",
            "Sum of digits of 947: 20\n",
            "Sum of digits of 948: 21\n",
            "Sum of digits of 949: 22\n",
            "Sum of digits of 950: 14\n",
            "Sum of digits of 951: 15\n",
            "Sum of digits of 952: 16\n",
            "Sum of digits of 953: 17\n",
            "Sum of digits of 954: 18\n",
            "Sum of digits of 955: 19\n",
            "Sum of digits of 956: 20\n",
            "Sum of digits of 957: 21\n",
            "Sum of digits of 958: 22\n",
            "Sum of digits of 959: 23\n",
            "Sum of digits of 960: 15\n",
            "Sum of digits of 961: 16\n",
            "Sum of digits of 962: 17\n",
            "Sum of digits of 963: 18\n",
            "Sum of digits of 964: 19\n",
            "Sum of digits of 965: 20\n",
            "Sum of digits of 966: 21\n",
            "Sum of digits of 967: 22\n",
            "Sum of digits of 968: 23\n",
            "Sum of digits of 969: 24\n",
            "Sum of digits of 970: 16\n",
            "Sum of digits of 971: 17\n",
            "Sum of digits of 972: 18\n",
            "Sum of digits of 973: 19\n",
            "Sum of digits of 974: 20\n",
            "Sum of digits of 975: 21\n",
            "Sum of digits of 976: 22\n",
            "Sum of digits of 977: 23\n",
            "Sum of digits of 978: 24\n",
            "Sum of digits of 979: 25\n",
            "Sum of digits of 980: 17\n",
            "Sum of digits of 981: 18\n",
            "Sum of digits of 982: 19\n",
            "Sum of digits of 983: 20\n",
            "Sum of digits of 984: 21\n",
            "Sum of digits of 985: 22\n",
            "Sum of digits of 986: 23\n",
            "Sum of digits of 987: 24\n",
            "Sum of digits of 988: 25\n",
            "Sum of digits of 989: 26\n",
            "Sum of digits of 990: 18\n",
            "Sum of digits of 991: 19\n",
            "Sum of digits of 992: 20\n",
            "Sum of digits of 993: 21\n",
            "Sum of digits of 994: 22\n",
            "Sum of digits of 995: 23\n",
            "Sum of digits of 996: 24\n",
            "Sum of digits of 997: 25\n",
            "Sum of digits of 998: 26\n",
            "Sum of digits of 999: 27\n",
            "Sum of digits of 1000: 1\n",
            "Total sum of digits from 1 to 1000: 13501\n"
          ]
        }
      ]
    },
    {
      "cell_type": "markdown",
      "source": [
        "40. Write a program that generates a list of prime palindromic numbers using list comprehension."
      ],
      "metadata": {
        "id": "17YcxZzDpp4b"
      }
    },
    {
      "cell_type": "code",
      "source": [
        "def is_prime(n):\n",
        "    if n <= 1:\n",
        "        return False\n",
        "    if n <= 3:\n",
        "        return True\n",
        "    if n % 2 == 0 or n % 3 == 0:\n",
        "        return False\n",
        "    i = 5\n",
        "    while i * i <= n:\n",
        "        if n % i == 0 or n % (i + 2) == 0:\n",
        "            return False\n",
        "        i += 6\n",
        "    return True\n",
        "\n",
        "def is_palindrome(n):\n",
        "    return str(n) == str(n)[::-1]\n",
        "\n",
        "# Generate prime palindromic numbers using list comprehension\n",
        "prime_palindromic_numbers = [num for num in range(1, 1000) if is_prime(num) and is_palindrome(num)]\n",
        "\n",
        "# Print the list of prime palindromic numbers\n",
        "print(\"Prime Palindromic Numbers:\", prime_palindromic_numbers)\n"
      ],
      "metadata": {
        "colab": {
          "base_uri": "https://localhost:8080/"
        },
        "id": "reHxIpBHnJiy",
        "outputId": "f60a10f9-25e2-4ac8-fa4d-6dda018bb5ce"
      },
      "execution_count": null,
      "outputs": [
        {
          "output_type": "stream",
          "name": "stdout",
          "text": [
            "Prime Palindromic Numbers: [2, 3, 5, 7, 11, 101, 131, 151, 181, 191, 313, 353, 373, 383, 727, 757, 787, 797, 919, 929]\n"
          ]
        }
      ]
    },
    {
      "cell_type": "code",
      "source": [],
      "metadata": {
        "id": "zC7-po4Qn5L0"
      },
      "execution_count": null,
      "outputs": []
    }
  ]
}